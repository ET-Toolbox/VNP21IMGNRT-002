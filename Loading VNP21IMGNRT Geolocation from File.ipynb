{
 "cells": [
  {
   "cell_type": "code",
   "execution_count": 33,
   "metadata": {},
   "outputs": [],
   "source": [
    "import warnings\n",
    "from os.path import expanduser\n",
    "import numpy as np\n",
    "import netCDF4\n",
    "import rasters as rt"
   ]
  },
  {
   "cell_type": "code",
   "execution_count": 11,
   "metadata": {},
   "outputs": [],
   "source": [
    "filename = \"~/data/VNP21IMG_NRT.A2025147.1700.002.2025147190500.nc\""
   ]
  },
  {
   "cell_type": "code",
   "execution_count": 12,
   "metadata": {},
   "outputs": [
    {
     "name": "stdout",
     "output_type": "stream",
     "text": [
      "<class 'netCDF4.Dataset'>\n",
      "root group (NETCDF4 data model, file format HDF5):\n",
      "    AlgorithmType: Single-Channel\n",
      "    AlgorithmVersion: VIIRS 2022\n",
      "    Conventions: CF-1.6\n",
      "    DayNightFlag: Day\n",
      "    EastBoundingCoordinate: -34.28002\n",
      "    EndTime: 2025-05-27 17:06:00.000\n",
      "    GRingPointLatitude: [ -6.4201703  -2.273785  -22.595377  -27.194231 ]\n",
      "    GRingPointLongitude: [-67.86452 -40.55275 -34.28002 -64.56987]\n",
      "    GRingPointSequenceNo: [1 2 3 4]\n",
      "    InstrumentShortname: VIIRS\n",
      "    LUTs used: GEOS.it.asm.asm_inst_3hr_glo_L576x361_p42.GEOS5294.2025-05-27T0600.V01.nc4, GEOS.it.asm.asm_inst_3hr_glo_L576x361_p42.GEOS5294.2025-05-27T0900.V01.nc4\n",
      "    LocalGranuleID: VNP21IMG_NRT.A2025147.1700.002.2025147190500.nc\n",
      "    LongName: VIIRS/NPP Land Surface Temperature and Emissivity 6-Min L2 Swath 375m\n",
      "    NWPSource: GEOS5\n",
      "    NorthBoundingCoordinate: -2.273785\n",
      "    OrbitNumber: 70374\n",
      "    PGEVersion: 2.0.5\n",
      "    PGE_EndTime: 2025-05-27 17:06:00.000\n",
      "    PGE_Name: PGE609\n",
      "    PGE_StartTime: 2025-05-27 17:00:00.000\n",
      "    ProcessingCenter: MODAPS-NASA\n",
      "    ProcessingEnvironment: Linux minion20319 5.4.0-1118-fips #128-Ubuntu SMP Wed Apr 2 02:11:38 UTC 2025 x86_64 x86_64 x86_64 GNU/Linux\n",
      "    Product_authority: https://doi.org\n",
      "    ProductionDateTime: 2025-05-27T19:05:54.270Z\n",
      "    RangeBeginningDate: 2025-05-27\n",
      "    RangeBeginningTime: 17:00:00.000000\n",
      "    RangeEndingDate: 2025-05-27\n",
      "    RangeEndingTime: 17:06:00.000000\n",
      "    SatelliteInstrument: NPP_OPS\n",
      "    SouthBoundingCoordinate: -27.194231\n",
      "    StartTime: 2025-05-27 17:00:00.000\n",
      "    VersionId: 002\n",
      "    WestBoundingCoordinate: -67.86452\n",
      "    cdm_data_type: swath\n",
      "    creator_email: modis-ops@lists.nasa.gov\n",
      "    creator_url: https://ladsweb.modaps.eosdis.nasa.gov\n",
      "    date_created: 2025-05-27T14:29:25Z\n",
      "    endDirection: Ascending\n",
      "    format_version: 2\n",
      "    history: geolocation_viirs_vcst.exe PGE501.1.AS5200.NPP_OPS.2025-147T1700.NA.2025-147T182238.157499124.pcf\n",
      "    institution: NASA Goddard Space Flight Center, VIIRS L1 Processing Group\n",
      "    instrument: VIIRS\n",
      "    instrument_number: 2\n",
      "    keywords_vocabulary: NASA Global Change Master Directory (GCMD) Science Keywords\n",
      "    license: http://science.nasa.gov/earth-science/earth-science-data/data-information-policy/\n",
      "    naming_authority: gov.nasa.gsfc.VIIRSland\n",
      "    number_of_filled_scans: 202\n",
      "    processing_level: GEO\n",
      "    processing_version: v3.0.0\n",
      "    project: VIIRS L2 Project\n",
      "    publisher_email: modis-ops@lists.nasa.gov\n",
      "    publisher_name: LAADS\n",
      "    publisher_url: https://ladsweb.modaps.eosdis.nasa.gov\n",
      "    startDirection: Ascending\n",
      "    time_coverage_end: 2025-05-27T17:06:00.000Z\n",
      "    time_coverage_start: 2025-05-27T17:00:00.000Z\n",
      "    title: VIIRS Land Surface Temperature Data\n",
      "    Product_doi: 10.5067/VIIRS/VNP21IMG_NRT.002\n",
      "    GEOS_Time_diff: 11.00\n",
      "    Platform_Short_Name: SUOMI-NPP\n",
      "    creator_name: VIIRS Land SIPS Processing Group\n",
      "    ShortName: VNP21IMG_NRT\n",
      "    PGENumber: 609\n",
      "    InputPointer: VNP02CCIMG_NRT.A2025147.1700.002.2025147184751.nc,VNP03IMG_NRT.A2025147.1700.002.2025147182251.nc,VNP21_NRT.A2025147.1700.002.2025147190111.nc,GEOS.it.asm.asm_inst_3hr_glo_L576x361_p42.GEOS5294.2025-05-27T0600.V01.nc4,GEOS.it.asm.asm_inst_3hr_glo_L576x361_p42.GEOS5294.2025-05-27T0900.V01.nc4\n",
      "    SensorShortname: VIIRS\n",
      "    DataResolution: 375m\n",
      "    ProductionTime: 2025-05-27 19:05:00.000\n",
      "    product_name: VNP21IMG_NRT.A2025147.1700.002.2025147190500.nc\n",
      "    GEOS_FILE_2: GEOS.it.asm.asm_inst_3hr_glo_L576x361_p42.GEOS5294.2025-05-27T0900.V01.nc4\n",
      "    GEOS_FILE_1: GEOS.it.asm.asm_inst_3hr_glo_L576x361_p42.GEOS5294.2025-05-27T0600.V01.nc4\n",
      "    dimensions(sizes): number_of_lines(6464), number_of_pixels(6400)\n",
      "    variables(dimensions): \n",
      "    groups: VIIRS_I5_LST\n"
     ]
    }
   ],
   "source": [
    "with netCDF4.Dataset(expanduser(filename)) as file:\n",
    "    print(file)"
   ]
  },
  {
   "cell_type": "code",
   "execution_count": 15,
   "metadata": {},
   "outputs": [
    {
     "name": "stdout",
     "output_type": "stream",
     "text": [
      "{'VIIRS_I5_LST': <class 'netCDF4.Group'>\n",
      "group /VIIRS_I5_LST:\n",
      "    dimensions(sizes): \n",
      "    variables(dimensions): \n",
      "    groups: Data Fields, Geolocation Fields}\n"
     ]
    }
   ],
   "source": [
    "with netCDF4.Dataset(expanduser(filename)) as file:\n",
    "    print(file.groups)"
   ]
  },
  {
   "cell_type": "code",
   "execution_count": 16,
   "metadata": {},
   "outputs": [
    {
     "name": "stdout",
     "output_type": "stream",
     "text": [
      "{'Data Fields': <class 'netCDF4.Group'>\n",
      "group /VIIRS_I5_LST/Data Fields:\n",
      "    dimensions(sizes): \n",
      "    variables(dimensions): uint8 Emis_I5(number_of_lines, number_of_pixels), uint16 Emis_I5_err(number_of_lines, number_of_pixels), uint16 LST(number_of_lines, number_of_pixels), uint8 LST_err(number_of_lines, number_of_pixels), uint8 QC(number_of_lines, number_of_pixels), uint8 View_angle(number_of_lines, number_of_pixels)\n",
      "    groups: , 'Geolocation Fields': <class 'netCDF4.Group'>\n",
      "group /VIIRS_I5_LST/Geolocation Fields:\n",
      "    dimensions(sizes): \n",
      "    variables(dimensions): float32 Latitude(number_of_lines, number_of_pixels), float32 Longitude(number_of_lines, number_of_pixels)\n",
      "    groups: }\n"
     ]
    }
   ],
   "source": [
    "with netCDF4.Dataset(expanduser(filename)) as file:\n",
    "    print(file[\"VIIRS_I5_LST\"].groups)"
   ]
  },
  {
   "cell_type": "code",
   "execution_count": 17,
   "metadata": {},
   "outputs": [
    {
     "name": "stdout",
     "output_type": "stream",
     "text": [
      "{'Latitude': <class 'netCDF4.Variable'>\n",
      "float32 Latitude(number_of_lines, number_of_pixels)\n",
      "    _FillValue: -999.0\n",
      "    add_offset: 0.0\n",
      "    coordinates: latitude longitude\n",
      "    format: scaled\n",
      "    long_name: Latitude data\n",
      "    scale_factor: 1.0\n",
      "    units: degrees north\n",
      "    valid_range: [-90.  90.]\n",
      "path = /VIIRS_I5_LST/Geolocation Fields\n",
      "unlimited dimensions: \n",
      "current shape = (6464, 6400)\n",
      "filling off, 'Longitude': <class 'netCDF4.Variable'>\n",
      "float32 Longitude(number_of_lines, number_of_pixels)\n",
      "    valid_range: [-180.  180.]\n",
      "    _FillValue: -999.0\n",
      "    add_offset: 0.0\n",
      "    coordinates: latitude longitude\n",
      "    format: scaled\n",
      "    long_name: Longitude data\n",
      "    scale_factor: 1.0\n",
      "    units: degrees east\n",
      "path = /VIIRS_I5_LST/Geolocation Fields\n",
      "unlimited dimensions: \n",
      "current shape = (6464, 6400)\n",
      "filling off}\n"
     ]
    }
   ],
   "source": [
    "with netCDF4.Dataset(expanduser(filename)) as file:\n",
    "    print(file[\"VIIRS_I5_LST/Geolocation Fields\"].variables)"
   ]
  },
  {
   "cell_type": "code",
   "execution_count": 27,
   "metadata": {},
   "outputs": [],
   "source": [
    "def read_latitude(filename: str) -> np.ndarray:\n",
    "    with netCDF4.Dataset(expanduser(filename)) as file:\n",
    "        dataset = file[\"VIIRS_I5_LST/Geolocation Fields/Latitude\"]\n",
    "        fill_value = dataset._FillValue\n",
    "\n",
    "        with warnings.catch_warnings():\n",
    "            warnings.simplefilter(\"ignore\")\n",
    "            array = np.array(dataset)\n",
    "            \n",
    "        array = np.where(array == fill_value, np.nan, array)\n",
    "        \n",
    "        return array"
   ]
  },
  {
   "cell_type": "code",
   "execution_count": 29,
   "metadata": {},
   "outputs": [],
   "source": [
    "def read_longitude(filename: str) -> np.ndarray:\n",
    "    with netCDF4.Dataset(expanduser(filename)) as file:\n",
    "        dataset = file[\"VIIRS_I5_LST/Geolocation Fields/Longitude\"]\n",
    "        fill_value = dataset._FillValue\n",
    "\n",
    "        with warnings.catch_warnings():\n",
    "            warnings.simplefilter(\"ignore\")\n",
    "            array = np.array(dataset)\n",
    "            \n",
    "        array = np.where(array == fill_value, np.nan, array)\n",
    "        \n",
    "        return array"
   ]
  },
  {
   "cell_type": "code",
   "execution_count": 31,
   "metadata": {},
   "outputs": [
    {
     "data": {
      "text/plain": [
       "array([[-22.59537697, -22.5974102 , -22.59944344, ..., -27.19339752,\n",
       "        -27.19381523, -27.19423103],\n",
       "       [-22.58819389, -22.59023094, -22.59226608, ..., -27.18597794,\n",
       "        -27.18639374, -27.18680954],\n",
       "       [-22.58101273, -22.58305168, -22.58508873, ..., -27.17855835,\n",
       "        -27.17897415, -27.17938423],\n",
       "       ...,\n",
       "       [ -2.28840446,  -2.28970623,  -2.29100633, ...,  -6.43294668,\n",
       "         -6.43388128,  -6.43482828],\n",
       "       [ -2.28109503,  -2.28239989,  -2.28370309, ...,  -6.42563438,\n",
       "         -6.42656374,  -6.42749882],\n",
       "       [ -2.27378511,  -2.27509308,  -2.27639961, ...,  -6.41831827,\n",
       "         -6.41923761,  -6.42017031]], shape=(6464, 6400))"
      ]
     },
     "execution_count": 31,
     "metadata": {},
     "output_type": "execute_result"
    }
   ],
   "source": [
    "latitude = read_latitude(filename)\n",
    "latitude"
   ]
  },
  {
   "cell_type": "code",
   "execution_count": 32,
   "metadata": {},
   "outputs": [
    {
     "data": {
      "text/plain": [
       "array([[-34.28002167, -34.28797531, -34.29592514, ..., -64.55300903,\n",
       "        -64.56147003, -64.56987   ],\n",
       "       [-34.28216934, -34.29012299, -34.298069  , ..., -64.5533371 ,\n",
       "        -64.56176758, -64.57021332],\n",
       "       [-34.2843132 , -34.29226685, -34.30020905, ..., -64.55362701,\n",
       "        -64.56210327, -64.57054901],\n",
       "       ...,\n",
       "       [-40.55051422, -40.55791855, -40.56531525, ..., -67.84766388,\n",
       "        -67.85520935, -67.86284637],\n",
       "       [-40.55163193, -40.55904007, -40.56643677, ..., -67.84858704,\n",
       "        -67.85610199, -67.86367798],\n",
       "       [-40.55274963, -40.56015778, -40.56755447, ..., -67.84946442,\n",
       "        -67.85693359, -67.86451721]], shape=(6464, 6400))"
      ]
     },
     "execution_count": 32,
     "metadata": {},
     "output_type": "execute_result"
    }
   ],
   "source": [
    "longitude = read_longitude(filename)\n",
    "longitude"
   ]
  },
  {
   "cell_type": "code",
   "execution_count": 34,
   "metadata": {},
   "outputs": [
    {
     "data": {
      "text/plain": [
       "{\n",
       "  \"dimensions\": {\n",
       "    \"rows\": 6464,\n",
       "    \"cols\": 6400\n",
       "  },\n",
       "  \"bbox\": {\n",
       "    \"xmin\": -67.86451721191406,\n",
       "    \"ymin\": -27.194231033325195,\n",
       "    \"xmax\": -34.28002166748047,\n",
       "    \"ymax\": -2.27378511428833\n",
       "  },\n",
       "  \"crs\": \"EPSG:4326\",\n",
       "  \"resolution\": {\n",
       "    \"cell_width\": 0.00423565576960579,\n",
       "    \"cell_height\": -0.00423565576960579\n",
       "  }\n",
       "}"
      ]
     },
     "execution_count": 34,
     "metadata": {},
     "output_type": "execute_result"
    }
   ],
   "source": [
    "geolocation = rt.RasterGeolocation(x=longitude, y=latitude)\n",
    "geolocation"
   ]
  },
  {
   "cell_type": "code",
   "execution_count": null,
   "metadata": {},
   "outputs": [],
   "source": []
  }
 ],
 "metadata": {
  "kernelspec": {
   "display_name": "VNP21IMGNRT-002",
   "language": "python",
   "name": "python3"
  },
  "language_info": {
   "codemirror_mode": {
    "name": "ipython",
    "version": 3
   },
   "file_extension": ".py",
   "mimetype": "text/x-python",
   "name": "python",
   "nbconvert_exporter": "python",
   "pygments_lexer": "ipython3",
   "version": "3.10.17"
  }
 },
 "nbformat": 4,
 "nbformat_minor": 2
}
