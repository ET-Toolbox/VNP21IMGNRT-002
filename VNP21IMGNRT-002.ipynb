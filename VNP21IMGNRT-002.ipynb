{
 "cells": [
  {
   "cell_type": "code",
   "execution_count": 1,
   "metadata": {},
   "outputs": [],
   "source": [
    "import requests\n",
    "\n",
    "CMR_SEARCH_URL = \"https://cmr.earthdata.nasa.gov/search/\"\n",
    "\n",
    "def concept_ID_from_DOI(DOI: str) -> str:\n",
    "    \"\"\"\n",
    "    Find the concept ID for a given DOI.\n",
    "\n",
    "    Parameters:\n",
    "    DOI (str): The DOI to search for.\n",
    "\n",
    "    Returns:\n",
    "    str: The concept ID for the given DOI.\n",
    "    \"\"\"\n",
    "    URL = f\"{CMR_SEARCH_URL}collections.json?doi={DOI}\"\n",
    "    response = requests.get(URL)\n",
    "\n",
    "    if response.status_code != 200:\n",
    "        raise ValueError(f\"Error: {response.status_code} - {response.text}\")\n",
    "\n",
    "    concept_ID = response.json()['feed']['entry'][0]['id']\n",
    "\n",
    "    return concept_ID\n"
   ]
  },
  {
   "cell_type": "code",
   "execution_count": null,
   "metadata": {},
   "outputs": [],
   "source": [
    "DOI = \"10.5067/VIIRS/VNP43IA4.002\"\n",
    "concept_ID_from_DOI(DOI)"
   ]
  },
  {
   "cell_type": "code",
   "execution_count": null,
   "metadata": {},
   "outputs": [],
   "source": [
    "DOI = \"10.5067/VIIRS/VNP21.002\"\n",
    "concept_ID_from_DOI(DOI)"
   ]
  },
  {
   "cell_type": "code",
   "execution_count": null,
   "metadata": {},
   "outputs": [],
   "source": [
    "DOI = \"10.5067/VIIRS/VNP21IMG_NRT.002\"\n",
    "concept_ID = concept_ID_from_DOI(DOI)\n",
    "concept_ID"
   ]
  },
  {
   "cell_type": "code",
   "execution_count": 5,
   "metadata": {},
   "outputs": [],
   "source": [
    "from typing import Union\n",
    "from datetime import date, datetime\n",
    "from dateutil import parser\n",
    "\n",
    "def earliest_datetime(date_in: Union[date, str]) -> datetime:\n",
    "    \"\"\"\n",
    "    Convert a date or date string to the earliest datetime of that date.\n",
    "\n",
    "    Args:\n",
    "        date_in (Union[date, str]): The input date or date string.\n",
    "\n",
    "    Returns:\n",
    "        datetime: The earliest datetime of the input date.\n",
    "    \"\"\"\n",
    "    if isinstance(date_in, str):\n",
    "        datetime_in = parser.parse(date_in)\n",
    "    else:\n",
    "        datetime_in = date_in\n",
    "\n",
    "    date_string = datetime_in.strftime(\"%Y-%m-%d\")\n",
    "    return parser.parse(f\"{date_string}T00:00:00Z\")\n",
    "\n",
    "\n",
    "def latest_datetime(date_in: Union[date, str]) -> datetime:\n",
    "    \"\"\"\n",
    "    Convert a date or date string to the latest datetime of that date.\n",
    "\n",
    "    Args:\n",
    "        date_in (Union[date, str]): The input date or date string.\n",
    "\n",
    "    Returns:\n",
    "        datetime: The latest datetime of the input date.\n",
    "    \"\"\"\n",
    "    if isinstance(date_in, str):\n",
    "        datetime_in = parser.parse(date_in)\n",
    "    else:\n",
    "        datetime_in = date_in\n",
    "\n",
    "    date_string = datetime_in.strftime(\"%Y-%m-%d\")\n",
    "    return parser.parse(f\"{date_string}T23:59:59Z\")\n"
   ]
  },
  {
   "cell_type": "code",
   "execution_count": 14,
   "metadata": {},
   "outputs": [],
   "source": [
    "start_date_UTC = \"2025-01-21\"\n",
    "end_date_UTC = \"2025-01-21\""
   ]
  },
  {
   "cell_type": "code",
   "execution_count": null,
   "metadata": {},
   "outputs": [],
   "source": [
    "import earthaccess\n",
    "\n",
    "# Create the query with the concept ID and temporal range\n",
    "query = earthaccess.granule_query() \\\n",
    "    .concept_id(concept_ID) \\\n",
    "    .temporal(earliest_datetime(start_date_UTC), latest_datetime(end_date_UTC))\n",
    "\n",
    "query"
   ]
  },
  {
   "cell_type": "code",
   "execution_count": 16,
   "metadata": {},
   "outputs": [],
   "source": [
    "from sentinel_tiles import sentinel_tiles"
   ]
  },
  {
   "cell_type": "code",
   "execution_count": null,
   "metadata": {},
   "outputs": [],
   "source": [
    "geometry = sentinel_tiles.grid(\"11SPS\")\n",
    "geometry"
   ]
  },
  {
   "cell_type": "code",
   "execution_count": 18,
   "metadata": {},
   "outputs": [],
   "source": [
    "from rasters import Point, Polygon, RasterGeometry\n",
    "\n",
    "# Add spatial constraints to the query if provided\n",
    "if isinstance(geometry, Point):\n",
    "    # If the target geometry is a Point, add a point constraint to the query\n",
    "    query = query.point(geometry.x, geometry.y)\n",
    "\n",
    "if isinstance(geometry, Polygon):\n",
    "    # If the target geometry is a Polygon, add a polygon constraint to the query\n",
    "    ring = geometry.exterior\n",
    "    \n",
    "    # Ensure the ring is counter-clockwise\n",
    "    if not ring.is_ccw:\n",
    "        ring = ring.reverse()\n",
    "    \n",
    "    coordinates = ring.coords\n",
    "    \n",
    "    # Add the polygon coordinates to the query\n",
    "    query = query.polygon(coordinates)\n",
    "\n",
    "if isinstance(geometry, RasterGeometry):\n",
    "    # If the target geometry is a RasterGeometry, add a polygon constraint to the query\n",
    "    ring = geometry.corner_polygon_latlon.exterior\n",
    "    \n",
    "    # Ensure the ring is counter-clockwise\n",
    "    if not ring.is_ccw:\n",
    "        ring = ring.reverse()\n",
    "    \n",
    "    coordinates = ring.coords\n",
    "    \n",
    "    # Add the polygon coordinates to the query\n",
    "    query = query.polygon(coordinates)"
   ]
  },
  {
   "cell_type": "code",
   "execution_count": null,
   "metadata": {},
   "outputs": [],
   "source": [
    "query"
   ]
  },
  {
   "cell_type": "code",
   "execution_count": 20,
   "metadata": {},
   "outputs": [],
   "source": [
    "from typing import List\n",
    "\n",
    "class CMRServerUnreachable(Exception):\n",
    "    \"\"\"Exception raised when the CMR server is unreachable.\"\"\"\n",
    "    pass\n",
    "\n",
    "# Execute the query and handle exceptions\n",
    "granules: List[earthaccess.search.DataGranule]\n",
    "try:\n",
    "    granules = query.get()\n",
    "except Exception as e:\n",
    "    raise CMRServerUnreachable(e)"
   ]
  },
  {
   "cell_type": "code",
   "execution_count": null,
   "metadata": {},
   "outputs": [],
   "source": [
    "granules"
   ]
  },
  {
   "cell_type": "code",
   "execution_count": null,
   "metadata": {},
   "outputs": [],
   "source": []
  }
 ],
 "metadata": {
  "kernelspec": {
   "display_name": "VNP21IMGNRT-002",
   "language": "python",
   "name": "python3"
  },
  "language_info": {
   "codemirror_mode": {
    "name": "ipython",
    "version": 3
   },
   "file_extension": ".py",
   "mimetype": "text/x-python",
   "name": "python",
   "nbconvert_exporter": "python",
   "pygments_lexer": "ipython3",
   "version": "3.10.17"
  }
 },
 "nbformat": 4,
 "nbformat_minor": 2
}
