{
 "cells": [
  {
   "cell_type": "code",
   "execution_count": 1,
   "metadata": {},
   "outputs": [],
   "source": [
    "import requests\n",
    "\n",
    "CMR_SEARCH_URL = \"https://cmr.earthdata.nasa.gov/search/\"\n",
    "\n",
    "def concept_ID_from_DOI(DOI: str) -> str:\n",
    "    \"\"\"\n",
    "    Find the concept ID for a given DOI.\n",
    "\n",
    "    Parameters:\n",
    "    DOI (str): The DOI to search for.\n",
    "\n",
    "    Returns:\n",
    "    str: The concept ID for the given DOI.\n",
    "    \"\"\"\n",
    "    URL = f\"{CMR_SEARCH_URL}collections.json?doi={DOI}\"\n",
    "    response = requests.get(URL)\n",
    "\n",
    "    if response.status_code != 200:\n",
    "        raise ValueError(f\"Error: {response.status_code} - {response.text}\")\n",
    "\n",
    "    concept_ID = response.json()['feed']['entry'][0]['id']\n",
    "\n",
    "    return concept_ID\n"
   ]
  },
  {
   "cell_type": "code",
   "execution_count": 6,
   "metadata": {},
   "outputs": [
    {
     "data": {
      "text/plain": [
       "'C2545314592-LPCLOUD'"
      ]
     },
     "execution_count": 6,
     "metadata": {},
     "output_type": "execute_result"
    }
   ],
   "source": [
    "DOI = \"10.5067/VIIRS/VNP43IA4.002\"\n",
    "concept_ID_from_DOI(DOI)"
   ]
  },
  {
   "cell_type": "code",
   "execution_count": 5,
   "metadata": {},
   "outputs": [
    {
     "data": {
      "text/plain": [
       "'C2545314550-LPCLOUD'"
      ]
     },
     "execution_count": 5,
     "metadata": {},
     "output_type": "execute_result"
    }
   ],
   "source": [
    "DOI = \"10.5067/VIIRS/VNP21.002\"\n",
    "concept_ID_from_DOI(DOI)"
   ]
  },
  {
   "cell_type": "code",
   "execution_count": 10,
   "metadata": {},
   "outputs": [
    {
     "data": {
      "text/plain": [
       "'C2788950354-LANCEMODIS'"
      ]
     },
     "execution_count": 10,
     "metadata": {},
     "output_type": "execute_result"
    }
   ],
   "source": [
    "DOI = \"10.5067/VIIRS/VNP21IMG_NRT.002\"\n",
    "concept_ID = concept_ID_from_DOI(DOI)\n",
    "concept_ID"
   ]
  },
  {
   "cell_type": "code",
   "execution_count": null,
   "metadata": {},
   "outputs": [],
   "source": [
    "from typing import Union\n",
    "from datetime import date, datetime\n",
    "from dateutil import parser\n",
    "\n",
    "def earliest_datetime(date_in: Union[date, str]) -> datetime:\n",
    "    \"\"\"\n",
    "    Convert a date or date string to the earliest datetime of that date.\n",
    "\n",
    "    Args:\n",
    "        date_in (Union[date, str]): The input date or date string.\n",
    "\n",
    "    Returns:\n",
    "        datetime: The earliest datetime of the input date.\n",
    "    \"\"\"\n",
    "    if isinstance(date_in, str):\n",
    "        datetime_in = parser.parse(date_in)\n",
    "    else:\n",
    "        datetime_in = date_in\n",
    "\n",
    "    date_string = datetime_in.strftime(\"%Y-%m-%d\")\n",
    "    return parser.parse(f\"{date_string}T00:00:00Z\")\n",
    "\n",
    "\n",
    "def latest_datetime(date_in: Union[date, str]) -> datetime:\n",
    "    \"\"\"\n",
    "    Convert a date or date string to the latest datetime of that date.\n",
    "\n",
    "    Args:\n",
    "        date_in (Union[date, str]): The input date or date string.\n",
    "\n",
    "    Returns:\n",
    "        datetime: The latest datetime of the input date.\n",
    "    \"\"\"\n",
    "    if isinstance(date_in, str):\n",
    "        datetime_in = parser.parse(date_in)\n",
    "    else:\n",
    "        datetime_in = date_in\n",
    "\n",
    "    date_string = datetime_in.strftime(\"%Y-%m-%d\")\n",
    "    return parser.parse(f\"{date_string}T23:59:59Z\")\n"
   ]
  },
  {
   "cell_type": "code",
   "execution_count": 12,
   "metadata": {},
   "outputs": [],
   "source": [
    "start_date_UTC = \"2024-12-22\"\n",
    "end_date_UTC = \"2024-12-22\""
   ]
  },
  {
   "cell_type": "code",
   "execution_count": 14,
   "metadata": {},
   "outputs": [
    {
     "data": {
      "text/plain": [
       "<earthaccess.search.DataGranules at 0x2a2198a90>"
      ]
     },
     "execution_count": 14,
     "metadata": {},
     "output_type": "execute_result"
    }
   ],
   "source": [
    "import earthaccess\n",
    "\n",
    "# Create the query with the concept ID and temporal range\n",
    "query = earthaccess.granule_query() \\\n",
    "    .concept_id(concept_ID) \\\n",
    "    .temporal(earliest_datetime(start_date_UTC), latest_datetime(end_date_UTC))\n",
    "\n",
    "query"
   ]
  },
  {
   "cell_type": "code",
   "execution_count": 15,
   "metadata": {},
   "outputs": [],
   "source": [
    "from sentinel_tiles import sentinel_tiles"
   ]
  },
  {
   "cell_type": "code",
   "execution_count": 16,
   "metadata": {},
   "outputs": [
    {
     "data": {
      "text/plain": [
       "{\n",
       "  \"dimensions\": {\n",
       "    \"rows\": 3660,\n",
       "    \"cols\": 3660\n",
       "  },\n",
       "  \"bbox\": {\n",
       "    \"xmin\": 600000.0,\n",
       "    \"ymin\": 3590220.0,\n",
       "    \"xmax\": 709800.0,\n",
       "    \"ymax\": 3700020.0\n",
       "  },\n",
       "  \"crs\": \"EPSG:32611\",\n",
       "  \"resolution\": {\n",
       "    \"cell_width\": 30.0,\n",
       "    \"cell_height\": -30.0\n",
       "  }\n",
       "}"
      ]
     },
     "execution_count": 16,
     "metadata": {},
     "output_type": "execute_result"
    }
   ],
   "source": [
    "geometry = sentinel_tiles.grid(\"11SPS\")\n",
    "geometry"
   ]
  },
  {
   "cell_type": "code",
   "execution_count": 17,
   "metadata": {},
   "outputs": [],
   "source": [
    "from rasters import Point, Polygon, RasterGeometry\n",
    "\n",
    "# Add spatial constraints to the query if provided\n",
    "if isinstance(geometry, Point):\n",
    "    # If the target geometry is a Point, add a point constraint to the query\n",
    "    query = query.point(geometry.x, geometry.y)\n",
    "\n",
    "if isinstance(geometry, Polygon):\n",
    "    # If the target geometry is a Polygon, add a polygon constraint to the query\n",
    "    ring = geometry.exterior\n",
    "    \n",
    "    # Ensure the ring is counter-clockwise\n",
    "    if not ring.is_ccw:\n",
    "        ring = ring.reverse()\n",
    "    \n",
    "    coordinates = ring.coords\n",
    "    \n",
    "    # Add the polygon coordinates to the query\n",
    "    query = query.polygon(coordinates)\n",
    "\n",
    "if isinstance(geometry, RasterGeometry):\n",
    "    # If the target geometry is a RasterGeometry, add a polygon constraint to the query\n",
    "    ring = geometry.corner_polygon_latlon.exterior\n",
    "    \n",
    "    # Ensure the ring is counter-clockwise\n",
    "    if not ring.is_ccw:\n",
    "        ring = ring.reverse()\n",
    "    \n",
    "    coordinates = ring.coords\n",
    "    \n",
    "    # Add the polygon coordinates to the query\n",
    "    query = query.polygon(coordinates)"
   ]
  },
  {
   "cell_type": "code",
   "execution_count": 18,
   "metadata": {},
   "outputs": [
    {
     "data": {
      "text/plain": [
       "<earthaccess.search.DataGranules at 0x2a2198a90>"
      ]
     },
     "execution_count": 18,
     "metadata": {},
     "output_type": "execute_result"
    }
   ],
   "source": [
    "query"
   ]
  },
  {
   "cell_type": "code",
   "execution_count": 19,
   "metadata": {},
   "outputs": [],
   "source": [
    "from typing import List\n",
    "\n",
    "class CMRServerUnreachable(Exception):\n",
    "    \"\"\"Exception raised when the CMR server is unreachable.\"\"\"\n",
    "    pass\n",
    "\n",
    "# Execute the query and handle exceptions\n",
    "granules: List[earthaccess.search.DataGranule]\n",
    "try:\n",
    "    granules = query.get()\n",
    "except Exception as e:\n",
    "    raise CMRServerUnreachable(e)"
   ]
  },
  {
   "cell_type": "code",
   "execution_count": 20,
   "metadata": {},
   "outputs": [
    {
     "data": {
      "text/plain": [
       "[Collection: {'ShortName': 'VNP21IMG_NRT', 'Version': '2'}\n",
       " Spatial coverage: {'HorizontalSpatialDomain': {'Geometry': {'GPolygons': [{'Boundary': {'Points': [{'Longitude': -98.043282, 'Latitude': 39.870094}, {'Longitude': -135.158417, 'Latitude': 45.561676}, {'Longitude': -136.966827, 'Latitude': 24.753414}, {'Longitude': -107.543953, 'Latitude': 20.211523}, {'Longitude': -98.043282, 'Latitude': 39.870094}]}}]}}}\n",
       " Temporal coverage: {'RangeDateTime': {'BeginningDateTime': '2024-12-22T09:42:00.000Z', 'EndingDateTime': '2024-12-22T09:48:00.000Z'}}\n",
       " Size(MB): 255.60798740387\n",
       " Data: ['https://nrt3.modaps.eosdis.nasa.gov/api/v2/content/archives/allData/5200/VNP21IMG_NRT/2024/357/VNP21IMG_NRT.A2024357.0942.002.2024357123613.nc'],\n",
       " Collection: {'ShortName': 'VNP21IMG_NRT', 'Version': '2'}\n",
       " Spatial coverage: {'HorizontalSpatialDomain': {'Geometry': {'GPolygons': [{'Boundary': {'Points': [{'Longitude': -131.032288, 'Latitude': 16.881495}, {'Longitude': -102.343468, 'Latitude': 21.226006}, {'Longitude': -104.505341, 'Latitude': 42.049633}, {'Longitude': -139.714798, 'Latitude': 36.726192}, {'Longitude': -131.032288, 'Latitude': 16.881495}]}}]}}}\n",
       " Temporal coverage: {'RangeDateTime': {'BeginningDateTime': '2024-12-22T21:00:00.000Z', 'EndingDateTime': '2024-12-22T21:06:00.000Z'}}\n",
       " Size(MB): 254.295781135559\n",
       " Data: ['https://nrt3.modaps.eosdis.nasa.gov/api/v2/content/archives/allData/5200/VNP21IMG_NRT/2024/357/VNP21IMG_NRT.A2024357.2100.002.2024358001757.nc']]"
      ]
     },
     "execution_count": 20,
     "metadata": {},
     "output_type": "execute_result"
    }
   ],
   "source": [
    "granules"
   ]
  },
  {
   "cell_type": "code",
   "execution_count": null,
   "metadata": {},
   "outputs": [],
   "source": []
  }
 ],
 "metadata": {
  "kernelspec": {
   "display_name": "VNP21A1D-002",
   "language": "python",
   "name": "python3"
  },
  "language_info": {
   "codemirror_mode": {
    "name": "ipython",
    "version": 3
   },
   "file_extension": ".py",
   "mimetype": "text/x-python",
   "name": "python",
   "nbconvert_exporter": "python",
   "pygments_lexer": "ipython3",
   "version": "3.11.10"
  }
 },
 "nbformat": 4,
 "nbformat_minor": 2
}
